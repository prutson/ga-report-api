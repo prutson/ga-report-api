{
 "cells": [
  {
   "cell_type": "code",
   "execution_count": 2,
   "id": "a197adee",
   "metadata": {},
   "outputs": [],
   "source": [
    "from oauth2client.service_account import ServiceAccountCredentials\n",
    "from googleapiclient.discovery import build\n",
    "import pandas as pd"
   ]
  },
  {
   "cell_type": "code",
   "execution_count": 3,
   "id": "dfe81e59",
   "metadata": {},
   "outputs": [],
   "source": [
    "credentials = ServiceAccountCredentials.from_json_keyfile_name(r<local_do_arquiv>, ['https://www.googleapis.com/auth/analytics.readonly']) "
   ]
  },
  {
   "cell_type": "code",
   "execution_count": 4,
   "id": "957e1cca",
   "metadata": {},
   "outputs": [],
   "source": [
    "VIEW_ID = <id_da_conta>\n",
    "data_inicio = '30daysAgo'\n",
    "data_fim = 'today'"
   ]
  },
  {
   "cell_type": "code",
   "execution_count": 5,
   "id": "1a7b57dd",
   "metadata": {},
   "outputs": [],
   "source": [
    "def initialize_analyticsreporting():\n",
    "    analytics = build('analyticsreporting', 'v4', credentials=credentials)\n",
    "    return analytics"
   ]
  },
  {
   "cell_type": "code",
   "execution_count": 6,
   "id": "f5d5624f",
   "metadata": {},
   "outputs": [],
   "source": [
    "def get_report_visao_geral(analytics):\n",
    "    return analytics.reports().batchGet(body={'reportRequests': [{\n",
    "        'viewId': VIEW_ID,\n",
    "        'dateRanges': [{'startDate': data_inicio, 'endDate': data_fim}],\n",
    "        'dimensions': [\n",
    "            {'name': 'ga:date'},\n",
    "            {'name': 'ga:landingPagePath'}\n",
    "        ], \n",
    "        'metrics': [\n",
    "            {'expression': 'ga:sessions'},\n",
    "            {'expression': 'ga:transactions'},\n",
    "            {'expression': 'ga:transactionRevenue'},\n",
    "        ],\n",
    "        \"filtersExpression\":\"ga:sourceMedium==(direct) / (none)\"\n",
    "    }]}).execute()"
   ]
  },
  {
   "cell_type": "code",
   "execution_count": 7,
   "id": "eb4aed28",
   "metadata": {},
   "outputs": [],
   "source": [
    "def response(response):\n",
    "    report = response.get('reports', [])[0] # expected just one report\n",
    "    # headers\n",
    "    header_dimensions = report.get('columnHeader', {}).get('dimensions', [])\n",
    "    header_metrics = [value['name'] for value in report.get('columnHeader', {}).get('metricHeader', {}).get('metricHeaderEntries', [])]\n",
    "    headers = header_dimensions + header_metrics\n",
    "    headers = list(map((lambda x: x.split(':', 1)[-1]), headers)) # removes \"ga:\" from each column\n",
    "    # values\n",
    "    values = []\n",
    "    rows = report.get('data', {}).get('rows', [])\n",
    "    for row in rows:\n",
    "        values_dimensions = row.get('dimensions', [])\n",
    "        values_metrics = row.get('metrics', [])[0].get('values', [])\n",
    "        values.append(values_dimensions + values_metrics)\n",
    "    # to dataframe\n",
    "    df = pd.DataFrame(columns=headers, data=values)\n",
    "    return df"
   ]
  },
  {
   "cell_type": "code",
   "execution_count": 8,
   "id": "a2164636",
   "metadata": {},
   "outputs": [],
   "source": [
    "analytics = initialize_analyticsreporting()\n",
    "response_visao_geral = get_report_visao_geral(analytics)\n",
    "df = response(response_visao_geral)"
   ]
  },
  {
   "cell_type": "code",
   "execution_count": 9,
   "id": "3d64d2ed",
   "metadata": {},
   "outputs": [
    {
     "data": {
      "text/html": [
       "<div>\n",
       "<style scoped>\n",
       "    .dataframe tbody tr th:only-of-type {\n",
       "        vertical-align: middle;\n",
       "    }\n",
       "\n",
       "    .dataframe tbody tr th {\n",
       "        vertical-align: top;\n",
       "    }\n",
       "\n",
       "    .dataframe thead th {\n",
       "        text-align: right;\n",
       "    }\n",
       "</style>\n",
       "<table border=\"1\" class=\"dataframe\">\n",
       "  <thead>\n",
       "    <tr style=\"text-align: right;\">\n",
       "      <th></th>\n",
       "      <th>date</th>\n",
       "      <th>landingPagePath</th>\n",
       "      <th>sessions</th>\n",
       "      <th>transactions</th>\n",
       "      <th>transactionRevenue</th>\n",
       "    </tr>\n",
       "  </thead>\n",
       "  <tbody>\n",
       "    <tr>\n",
       "      <th>0</th>\n",
       "      <td>20230313</td>\n",
       "      <td>/</td>\n",
       "      <td>1</td>\n",
       "      <td>0</td>\n",
       "      <td>0.0</td>\n",
       "    </tr>\n",
       "    <tr>\n",
       "      <th>1</th>\n",
       "      <td>20230313</td>\n",
       "      <td>/?fbclid=PAAab-IytmMpMgijzT7W21jomgXROTkxMGpfT...</td>\n",
       "      <td>1</td>\n",
       "      <td>0</td>\n",
       "      <td>0.0</td>\n",
       "    </tr>\n",
       "    <tr>\n",
       "      <th>2</th>\n",
       "      <td>20230315</td>\n",
       "      <td>/</td>\n",
       "      <td>1</td>\n",
       "      <td>0</td>\n",
       "      <td>0.0</td>\n",
       "    </tr>\n",
       "    <tr>\n",
       "      <th>3</th>\n",
       "      <td>20230319</td>\n",
       "      <td>/</td>\n",
       "      <td>1</td>\n",
       "      <td>0</td>\n",
       "      <td>0.0</td>\n",
       "    </tr>\n",
       "    <tr>\n",
       "      <th>4</th>\n",
       "      <td>20230322</td>\n",
       "      <td>/</td>\n",
       "      <td>1</td>\n",
       "      <td>0</td>\n",
       "      <td>0.0</td>\n",
       "    </tr>\n",
       "  </tbody>\n",
       "</table>\n",
       "</div>"
      ],
      "text/plain": [
       "       date                                    landingPagePath sessions  \\\n",
       "0  20230313                                                  /        1   \n",
       "1  20230313  /?fbclid=PAAab-IytmMpMgijzT7W21jomgXROTkxMGpfT...        1   \n",
       "2  20230315                                                  /        1   \n",
       "3  20230319                                                  /        1   \n",
       "4  20230322                                                  /        1   \n",
       "\n",
       "  transactions transactionRevenue  \n",
       "0            0                0.0  \n",
       "1            0                0.0  \n",
       "2            0                0.0  \n",
       "3            0                0.0  \n",
       "4            0                0.0  "
      ]
     },
     "execution_count": 9,
     "metadata": {},
     "output_type": "execute_result"
    }
   ],
   "source": [
    "df"
   ]
  },
  {
   "cell_type": "code",
   "execution_count": null,
   "id": "52c796d8",
   "metadata": {},
   "outputs": [],
   "source": []
  }
 ],
 "metadata": {
  "kernelspec": {
   "display_name": "Python 3 (ipykernel)",
   "language": "python",
   "name": "python3"
  },
  "language_info": {
   "codemirror_mode": {
    "name": "ipython",
    "version": 3
   },
   "file_extension": ".py",
   "mimetype": "text/x-python",
   "name": "python",
   "nbconvert_exporter": "python",
   "pygments_lexer": "ipython3",
   "version": "3.9.7"
  }
 },
 "nbformat": 4,
 "nbformat_minor": 5
}
